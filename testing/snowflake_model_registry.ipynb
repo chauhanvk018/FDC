{
 "cells": [
  {
   "cell_type": "code",
   "execution_count": null,
   "metadata": {},
   "outputs": [],
   "source": [
    "#!pip install fosforml snowflake  snowflake-connector-python snowflake-snowpark-python snowflake-snowpark-python[pandas] seaborn matplotlib numpy pandas scikit-learn refractio refractml refractio[snowflake]"
   ]
  },
  {
   "cell_type": "code",
   "execution_count": 1,
   "metadata": {},
   "outputs": [
    {
     "name": "stdout",
     "output_type": "stream",
     "text": [
      "absl-py==1.4.0\n",
      "aiobotocore==2.15.0\n",
      "aiohappyeyeballs==2.4.0\n",
      "aiohttp==3.10.5\n",
      "aioitertools==0.12.0\n",
      "aiosignal==1.3.1\n",
      "anyio==3.7.1\n",
      "argon2-cffi==23.1.0\n",
      "argon2-cffi-bindings==21.2.0\n",
      "asn1crypto==1.5.1\n",
      "asttokens==2.4.1\n",
      "async-lru==2.0.4\n",
      "async-timeout==4.0.3\n",
      "attrs==23.2.0\n",
      "Babel==2.15.0\n",
      "beautifulsoup4==4.12.3\n",
      "bleach==6.1.0\n",
      "botocore==1.35.16\n",
      "Brotli==1.0.9\n",
      "cachetools==5.5.0\n",
      "catboost==1.2.7\n",
      "certifi==2024.7.4\n",
      "cffi==1.16.0\n",
      "charset-normalizer==3.3.2\n",
      "cloudpickle==2.2.1\n",
      "comm==0.2.2\n",
      "conda==23.1.0\n",
      "conda-content-trust==0.1.3\n",
      "conda-package-handling==2.3.0\n",
      "conda-package-streaming==0.10.0\n",
      "contourpy==1.3.0\n",
      "cryptography==42.0.5\n",
      "cycler==0.12.1\n",
      "debugpy==1.8.2\n",
      "decorator==5.1.1\n",
      "defusedxml==0.7.1\n",
      "exceptiongroup==1.2.2\n",
      "executing==2.0.1\n",
      "fastjsonschema==2.20.0\n",
      "filelock==3.16.1\n",
      "fonttools==4.53.1\n",
      "fosforml==1.1.7\n",
      "frozenlist==1.4.1\n",
      "fsspec==2023.12.2\n",
      "graphviz==0.20.3\n",
      "h11==0.14.0\n",
      "httpcore==1.0.5\n",
      "httpx==0.27.0\n",
      "idna==3.7\n",
      "importlib-metadata==8.2.0\n",
      "importlib-resources==6.4.5\n",
      "ipykernel==6.29.5\n",
      "ipython==8.18.1\n",
      "ipywidgets==8.1.3\n",
      "jedi==0.19.1\n",
      "jinja2==3.1.4\n",
      "jmespath==1.0.1\n",
      "joblib==1.4.2\n",
      "json5==0.9.25\n",
      "jsonschema==4.23.0\n",
      "jsonschema-specifications==2023.12.1\n",
      "jupyter==1.0.0\n",
      "jupyter-client==8.6.2\n",
      "jupyter-console==6.6.3\n",
      "jupyter-core==5.7.2\n",
      "jupyter-events==0.10.0\n",
      "jupyter-lsp==2.2.5\n",
      "jupyter-server==2.14.2\n",
      "jupyter-server-terminals==0.5.3\n",
      "jupyterlab==4.2.4\n",
      "jupyterlab-pygments==0.3.0\n",
      "jupyterlab-server==2.27.3\n",
      "jupyterlab-widgets==3.0.11\n",
      "kiwisolver==1.4.7\n",
      "MarkupSafe==2.1.5\n",
      "matplotlib==3.9.2\n",
      "matplotlib-inline==0.1.7\n",
      "mistune==3.0.2\n",
      "multidict==6.1.0\n",
      "nbclient==0.10.0\n",
      "nbconvert==7.16.4\n",
      "nbformat==5.10.4\n",
      "nest-asyncio==1.6.0\n",
      "notebook==7.2.1\n",
      "notebook-shim==0.2.4\n",
      "numpy==1.26.4\n",
      "overrides==7.7.0\n",
      "packaging==23.2\n",
      "pandas==2.2.0\n",
      "pandocfilters==1.5.1\n",
      "parso==0.8.4\n",
      "pexpect==4.9.0\n",
      "pillow==10.4.0\n",
      "platformdirs==4.2.2\n",
      "plotly==5.24.1\n",
      "pluggy==1.0.0\n",
      "prometheus-client==0.20.0\n",
      "prompt-toolkit==3.0.47\n",
      "psutil==6.0.0\n",
      "ptyprocess==0.7.0\n",
      "pure-eval==0.2.3\n",
      "pyarrow==17.0.0\n",
      "pycosat==0.6.6\n",
      "pycparser==2.21\n",
      "pygments==2.18.0\n",
      "PyJWT==2.9.0\n",
      "pyOpenSSL==24.0.0\n",
      "pyparsing==3.1.4\n",
      "PySocks==1.7.1\n",
      "python-dateutil==2.9.0.post0\n",
      "python-json-logger==2.0.7\n",
      "pytimeparse==1.1.8\n",
      "pytz==2024.1\n",
      "PyYAML==6.0.1\n",
      "pyzmq==26.0.3\n",
      "qtconsole==5.5.2\n",
      "QtPy==2.4.1\n",
      "referencing==0.35.1\n",
      "requests==2.32.3\n",
      "retrying==1.3.4\n",
      "rfc3339-validator==0.1.4\n",
      "rfc3986-validator==0.1.1\n",
      "rpds-py==0.19.1\n",
      "ruamel.yaml==0.17.21\n",
      "ruamel.yaml.clib==0.2.6\n",
      "s3fs==2023.12.2\n",
      "scikit-learn==1.5.2\n",
      "scipy==1.13.1\n",
      "Send2Trash==1.8.3\n",
      "six==1.16.0\n",
      "sniffio==1.3.1\n",
      "snowflake-connector-python==3.12.2\n",
      "snowflake-ml-python==1.5.0\n",
      "snowflake-snowpark-python==1.22.1\n",
      "sortedcontainers==2.4.0\n",
      "soupsieve==2.5\n",
      "sqlparse==0.5.1\n",
      "stack-data==0.6.3\n",
      "tenacity==9.0.0\n",
      "terminado==0.18.1\n",
      "threadpoolctl==3.5.0\n",
      "tinycss2==1.3.0\n",
      "tomli==2.0.1\n",
      "tomlkit==0.13.2\n",
      "toolz==0.12.0\n",
      "tornado==6.4.1\n",
      "tqdm==4.66.4\n",
      "traitlets==5.14.3\n",
      "typing-extensions==4.12.2\n",
      "tzdata==2024.1\n",
      "urllib3==1.26.20\n",
      "wcwidth==0.2.13\n",
      "webencodings==0.5.1\n",
      "websocket-client==1.8.0\n",
      "widgetsnbextension==4.0.11\n",
      "wrapt==1.16.0\n",
      "xgboost==1.7.6\n",
      "yarl==1.11.1\n",
      "zipp==3.19.2\n",
      "zstandard==0.22.0\n",
      "Note: you may need to restart the kernel to use updated packages.\n"
     ]
    }
   ],
   "source": [
    "pip freeze"
   ]
  },
  {
   "cell_type": "code",
   "execution_count": 1,
   "metadata": {},
   "outputs": [
    {
     "name": "stdout",
     "output_type": "stream",
     "text": [
      "Uninstalling scikit-learn-1.5.2:\n",
      "  Successfully uninstalled scikit-learn-1.5.2\n"
     ]
    }
   ],
   "source": [
    "!pip uninstall -y scikit-learn"
   ]
  },
  {
   "cell_type": "code",
   "execution_count": null,
   "metadata": {},
   "outputs": [],
   "source": [
    "!pip install fosforml\n",
    "!pip install 'scikit-learn==1.5.*'"
   ]
  },
  {
   "cell_type": "code",
   "execution_count": null,
   "metadata": {},
   "outputs": [],
   "source": [
    "from fosforml.model_manager.snowflakesession import get_session\n",
    "my_session = get_session()"
   ]
  },
  {
   "cell_type": "code",
   "execution_count": null,
   "metadata": {},
   "outputs": [],
   "source": [
    "table_name = 'SALARY_DATA'\n",
    "sf_df = my_session.sql(\"select * from {}\".format(table_name))\n",
    "salaryDataset =  sf_df.to_pandas()\n",
    "salaryDataset"
   ]
  },
  {
   "cell_type": "code",
   "execution_count": null,
   "metadata": {},
   "outputs": [],
   "source": [
    "X = salaryDataset[[\"YEARSEXPERIENCE\"]]\n",
    "y = salaryDataset[[\"SALARY\"]]"
   ]
  },
  {
   "cell_type": "code",
   "execution_count": null,
   "metadata": {},
   "outputs": [],
   "source": [
    "#from sklearn.preprocessing import train_test_split\n",
    "import sklearn.preprocessing\n",
    "from sklearn.model_selection import train_test_split\n",
    "#help(sklearn.model_selection.train_test_split)\n",
    "X_train, X_test, y_train, y_test = train_test_split(X, y, test_size=0.33, random_state=42)"
   ]
  },
  {
   "cell_type": "code",
   "execution_count": null,
   "metadata": {},
   "outputs": [],
   "source": [
    "from sklearn.linear_model import LinearRegression\n",
    "\n",
    "model = LinearRegression()\n",
    "model.fit(X_train,y_train)\n",
    "y_pred = model.predict(X_test)\n",
    "#help(model)"
   ]
  },
  {
   "cell_type": "code",
   "execution_count": null,
   "metadata": {},
   "outputs": [],
   "source": [
    "import matplotlib.pyplot as plt\n",
    "\n",
    "plt.scatter(y_test,y_pred)\n",
    "plt.show()"
   ]
  },
  {
   "cell_type": "code",
   "execution_count": null,
   "metadata": {},
   "outputs": [],
   "source": [
    "from fosforml import register_model"
   ]
  },
  {
   "cell_type": "code",
   "execution_count": null,
   "metadata": {},
   "outputs": [],
   "source": [
    "import pandas as pd\n",
    "y_pred_df = pd.DataFrame(y_pred , columns = ['salary_pred'])"
   ]
  },
  {
   "cell_type": "code",
   "execution_count": null,
   "metadata": {},
   "outputs": [],
   "source": [
    "register_model(\n",
    "  model_obj=model,\n",
    "  session=my_session,\n",
    "  x_train=X_train,\n",
    "  y_train=y_train,\n",
    "  x_test=X_test,\n",
    "  y_test=y_test,\n",
    "  y_pred=y_pred_df,\n",
    "  source=\"Notebook\",\n",
    "  dataset_name=\"SALARY_DATA\",\n",
    "  dataset_source=\"Snowflake\",\n",
    "  name=\"Salary_Prediction\",\n",
    "  description=\"This model is to predict the salary based on experinece\",\n",
    "  flavour=\"sklearn\",\n",
    "  model_type=\"regression\",\n",
    "  conda_dependencies=[\"scikit-learn==1.5.2\"]\n",
    ")"
   ]
  },
  {
   "cell_type": "code",
   "execution_count": null,
   "metadata": {},
   "outputs": [],
   "source": [
    "# from snowflake.ml.registry import Registry\n",
    "\n",
    "# registry = Registry(session=session, database_name=current_db, schema_name=current_schema)\n",
    "# registry.log_model(\n",
    "#     model_name=\"Salary_Prediction_Model\",\n",
    "#     model=model,\n",
    "#     version_name = \"V1\",\n",
    "#     comment=\"A simple linear regression model\",\n",
    "#     sample_input_data = [[5.2]]\n",
    "# )\n",
    "# #help(Registry.log_model)"
   ]
  },
  {
   "cell_type": "code",
   "execution_count": null,
   "metadata": {},
   "outputs": [],
   "source": [
    "# Install snowflake-ml-python\n",
    "from snowflake.ml.registry import registry\n",
    "\n",
    "reg = registry.Registry(session=my_session, database_name='AMAZON_DB', schema_name='AMAZON_SCHEMA')\n",
    "mv = reg.get_model(\"SALARY_PREDICTION_MODEL\").version('V1')\n",
    "mv.run([[10.2]], function_name='PREDICT')"
   ]
  },
  {
   "cell_type": "code",
   "execution_count": null,
   "metadata": {},
   "outputs": [],
   "source": []
  }
 ],
 "metadata": {
  "kernelspec": {
   "display_name": "Python 3 (ipykernel)",
   "language": "python",
   "name": "python3"
  },
  "language_info": {
   "codemirror_mode": {
    "name": "ipython",
    "version": 3
   },
   "file_extension": ".py",
   "mimetype": "text/x-python",
   "name": "python",
   "nbconvert_exporter": "python",
   "pygments_lexer": "ipython3",
   "version": "3.9.19"
  }
 },
 "nbformat": 4,
 "nbformat_minor": 4
}
